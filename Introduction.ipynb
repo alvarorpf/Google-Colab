{
  "nbformat": 4,
  "nbformat_minor": 0,
  "metadata": {
    "colab": {
      "name": "Introduction.ipynb",
      "provenance": [],
      "collapsed_sections": [],
      "authorship_tag": "ABX9TyOQSFAmZvLyvqCfcKQtae0Q",
      "include_colab_link": true
    },
    "kernelspec": {
      "name": "python3",
      "display_name": "Python 3"
    }
  },
  "cells": [
    {
      "cell_type": "markdown",
      "metadata": {
        "id": "view-in-github",
        "colab_type": "text"
      },
      "source": [
        "<a href=\"https://colab.research.google.com/github/alvarorpf/Google-Colab/blob/main/Introduction.ipynb\" target=\"_parent\"><img src=\"https://colab.research.google.com/assets/colab-badge.svg\" alt=\"Open In Colab\"/></a>"
      ]
    },
    {
      "cell_type": "markdown",
      "metadata": {
        "id": "5CLst5l2e5Wx"
      },
      "source": [
        "# **Ejercicios en Python Utilizando Google Colab**\n",
        "\n"
      ]
    },
    {
      "cell_type": "code",
      "metadata": {
        "id": "q8BGBB-sfFBK",
        "outputId": "623945fd-fac7-4ef2-f362-35ce770dbe49",
        "colab": {
          "base_uri": "https://localhost:8080/"
        }
      },
      "source": [
        "# Ejemplo de impresion de un mensaje por pantalla\n",
        "print(\"Hola Mundo\")"
      ],
      "execution_count": 1,
      "outputs": [
        {
          "output_type": "stream",
          "text": [
            "Hola Mundo\n"
          ],
          "name": "stdout"
        }
      ]
    },
    {
      "cell_type": "code",
      "metadata": {
        "id": "bsrh2hSufPAx",
        "outputId": "5c1f4e2a-938f-461f-e862-244c44d9a096",
        "colab": {
          "base_uri": "https://localhost:8080/"
        }
      },
      "source": [
        "# Imprimir version de Python\n",
        "# La libreria sys contiene la informacion de la version de python que estamos utilizando para trabajar\n",
        "import sys\n",
        "print(\"Python Version\")\n",
        "v = sys.version.split()[0]\n",
        "print(v)"
      ],
      "execution_count": 13,
      "outputs": [
        {
          "output_type": "stream",
          "text": [
            "Python Version\n",
            "3.6.9\n"
          ],
          "name": "stdout"
        }
      ]
    }
  ]
}